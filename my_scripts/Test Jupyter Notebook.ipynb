{
 "cells": [
  {
   "cell_type": "code",
   "execution_count": 8,
   "metadata": {},
   "outputs": [
    {
     "name": "stdout",
     "output_type": "stream",
     "text": [
      "5! should be 120\n",
      "fact(5) is 120\n"
     ]
    }
   ],
   "source": [
    "# Let's try creating a few functions and playing around with them. How about some good old factorials?\n",
    "def fact(n):\n",
    "    if n == 0:\n",
    "        return 1\n",
    "    return fact(n-1) * n\n",
    "\n",
    "print '5! should be 120'\n",
    "print 'fact(5) is', fact(5)"
   ]
  },
  {
   "cell_type": "code",
   "execution_count": 9,
   "metadata": {},
   "outputs": [
    {
     "name": "stdout",
     "output_type": "stream",
     "text": [
      "5C2 should be 10\n",
      "nCr(5, 2) is 10\n"
     ]
    }
   ],
   "source": [
    "# Perfect. Now let's create the nCr function\n",
    "def nCr(n, r):\n",
    "    return fact(n) / (fact(r) * fact(n - r))\n",
    "\n",
    "print '5C2 should be 10'\n",
    "print 'nCr(5, 2) is', nCr(5, 2)"
   ]
  },
  {
   "cell_type": "code",
   "execution_count": 13,
   "metadata": {},
   "outputs": [
    {
     "name": "stdout",
     "output_type": "stream",
     "text": [
      "6C3 should be 20\n",
      "Uses nPr!\n",
      "nCr(6, 3) is 20\n"
     ]
    }
   ],
   "source": [
    "# If I understand execution order correctly, this section may use code from either the earlier nCr or the later one\n",
    "print '6C3 should be 20'\n",
    "print 'nCr(6, 3) is %d' % nCr(6, 3)\n",
    "\n",
    "# To get this to execute the later nCr version, run this block after that one has executed.\n",
    "# Reloading the page will have the code execute in order."
   ]
  },
  {
   "cell_type": "code",
   "execution_count": 11,
   "metadata": {},
   "outputs": [
    {
     "name": "stdout",
     "output_type": "stream",
     "text": [
      "5P2 should be 20\n",
      "nPr(5, 2) is 20\n"
     ]
    }
   ],
   "source": [
    "# OK, let's create nPr. Soon we'll mess with dependency order\n",
    "def nPr(n, r):\n",
    "    return fact(n) / fact(n - r)\n",
    "\n",
    "print '5P2 should be 20'\n",
    "print 'nPr(5, 2) is', nPr(5, 2)"
   ]
  },
  {
   "cell_type": "code",
   "execution_count": 12,
   "metadata": {},
   "outputs": [
    {
     "name": "stdout",
     "output_type": "stream",
     "text": [
      "5C3 should be 10\n",
      "Uses nPr!\n",
      "nCr(5, 3) is 10\n"
     ]
    }
   ],
   "source": [
    "# We've been executing everything in order thus far. Let's use this to our advantage\n",
    "def nCr(n, r):\n",
    "    print 'Uses nPr!'\n",
    "    return nPr(n, r) / fact(r)\n",
    "\n",
    "print '5C3 should be 10'\n",
    "print 'nCr(5, 3) is %d' % nCr(5, 3)"
   ]
  },
  {
   "cell_type": "code",
   "execution_count": null,
   "metadata": {
    "collapsed": true
   },
   "outputs": [],
   "source": []
  }
 ],
 "metadata": {
  "kernelspec": {
   "display_name": "Python 2",
   "language": "python",
   "name": "python2"
  },
  "language_info": {
   "codemirror_mode": {
    "name": "ipython",
    "version": 2
   },
   "file_extension": ".py",
   "mimetype": "text/x-python",
   "name": "python",
   "nbconvert_exporter": "python",
   "pygments_lexer": "ipython2",
   "version": "2.7.13"
  }
 },
 "nbformat": 4,
 "nbformat_minor": 2
}
